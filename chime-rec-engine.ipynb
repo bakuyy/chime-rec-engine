{
 "cells": [
  {
   "cell_type": "markdown",
   "id": "82fee886-3af7-4d25-babf-d2ace7672c89",
   "metadata": {},
   "source": [
    "## Imports"
   ]
  },
  {
   "cell_type": "code",
   "execution_count": 2,
   "id": "d636d3d8-938d-4e9f-b2cd-20f397abca6e",
   "metadata": {},
   "outputs": [],
   "source": [
    "import pandas as pd\n",
    "import numpy as np\n",
    "import seaborn as sns\n",
    "import matplotlib.pyplot as plt\n",
    "from sklearn.model_selection import train_test_split\n",
    "from scipy import sparse\n",
    "from surprise import Dataset, Reader, SVD\n",
    "from collections import Counter"
   ]
  },
  {
   "cell_type": "code",
   "execution_count": 3,
   "id": "f380c0a7-f111-4e27-b3c0-1f78e8abdc24",
   "metadata": {},
   "outputs": [
    {
     "data": {
      "text/html": [
       "<div>\n",
       "<style scoped>\n",
       "    .dataframe tbody tr th:only-of-type {\n",
       "        vertical-align: middle;\n",
       "    }\n",
       "\n",
       "    .dataframe tbody tr th {\n",
       "        vertical-align: top;\n",
       "    }\n",
       "\n",
       "    .dataframe thead th {\n",
       "        text-align: right;\n",
       "    }\n",
       "</style>\n",
       "<table border=\"1\" class=\"dataframe\">\n",
       "  <thead>\n",
       "    <tr style=\"text-align: right;\">\n",
       "      <th></th>\n",
       "      <th>user_id</th>\n",
       "      <th>song_id</th>\n",
       "      <th>listen_count</th>\n",
       "      <th>timestamp</th>\n",
       "      <th>interaction</th>\n",
       "    </tr>\n",
       "  </thead>\n",
       "  <tbody>\n",
       "    <tr>\n",
       "      <th>0</th>\n",
       "      <td>76</td>\n",
       "      <td>453</td>\n",
       "      <td>1</td>\n",
       "      <td>2024-04-01 23:25:01.108907</td>\n",
       "      <td>1</td>\n",
       "    </tr>\n",
       "    <tr>\n",
       "      <th>1</th>\n",
       "      <td>93</td>\n",
       "      <td>58</td>\n",
       "      <td>2</td>\n",
       "      <td>2024-12-25 23:16:01.109108</td>\n",
       "      <td>2</td>\n",
       "    </tr>\n",
       "    <tr>\n",
       "      <th>2</th>\n",
       "      <td>22</td>\n",
       "      <td>355</td>\n",
       "      <td>0</td>\n",
       "      <td>2024-06-24 03:58:01.109114</td>\n",
       "      <td>-1</td>\n",
       "    </tr>\n",
       "    <tr>\n",
       "      <th>3</th>\n",
       "      <td>64</td>\n",
       "      <td>215</td>\n",
       "      <td>1</td>\n",
       "      <td>2024-09-08 15:46:01.109118</td>\n",
       "      <td>-1</td>\n",
       "    </tr>\n",
       "    <tr>\n",
       "      <th>4</th>\n",
       "      <td>9</td>\n",
       "      <td>149</td>\n",
       "      <td>4</td>\n",
       "      <td>2024-10-20 23:35:01.109122</td>\n",
       "      <td>2</td>\n",
       "    </tr>\n",
       "  </tbody>\n",
       "</table>\n",
       "</div>"
      ],
      "text/plain": [
       "   user_id  song_id  listen_count                   timestamp  interaction\n",
       "0       76      453             1  2024-04-01 23:25:01.108907            1\n",
       "1       93       58             2  2024-12-25 23:16:01.109108            2\n",
       "2       22      355             0  2024-06-24 03:58:01.109114           -1\n",
       "3       64      215             1  2024-09-08 15:46:01.109118           -1\n",
       "4        9      149             4  2024-10-20 23:35:01.109122            2"
      ]
     },
     "execution_count": 3,
     "metadata": {},
     "output_type": "execute_result"
    }
   ],
   "source": [
    "df = pd.read_csv(\"training_data/data.csv\")\n",
    "df.head()"
   ]
  },
  {
   "cell_type": "markdown",
   "id": "d0e389f3-e38f-4de7-8027-2b9f127e0c99",
   "metadata": {},
   "source": [
    "## Data Analysis"
   ]
  },
  {
   "cell_type": "markdown",
   "id": "8880b9da-8e4c-4c6a-8591-e871dc2f44f4",
   "metadata": {},
   "source": [
    "### User Behaviour Analysis"
   ]
  },
  {
   "cell_type": "code",
   "execution_count": 6,
   "id": "f2fc91b9-06ae-490e-b0e5-bd857efc774e",
   "metadata": {},
   "outputs": [
    {
     "name": "stdout",
     "output_type": "stream",
     "text": [
      "Average number of listens per user: 44.59\n",
      "Most active users: [0, 29, 2, 52, 59, 73, 97, 88, 30, 18] and Most Inactive Users: [87, 3, 77, 54, 51, 75, 24, 9, 82, 5]\n"
     ]
    },
    {
     "data": {
      "image/png": "[encoded data removed]",
      "text/plain": [
       "<Figure size 640x480 with 1 Axes>"
      ]
     },
     "metadata": {},
     "output_type": "display_data"
    }
   ],
   "source": [
    "# users = Counter(sorted(df[\"user_id\"]))\n",
    "users = df[\"user_id\"].value_counts()\n",
    "\n",
    "# plot user df\n",
    "plt.title(\"Users and df Mapped\")\n",
    "plt.bar(users.index,users.values)\n",
    "plt.xlabel(\"User ID\")\n",
    "plt.ylabel(\"# of Ratings\")\n",
    "\n",
    "# average listens per user\n",
    "average_ratings_per_user = users.mean()\n",
    "print(\"Average number of listens per user:\",average_ratings_per_user)\n",
    "\n",
    "# top 10 active/inactive users\n",
    "listen_count_users = df.groupby(\"user_id\")[\"listen_count\"].sum()\n",
    "sorted_users = listen_count_users.sort_values(ascending=True)\n",
    "top_active_users = list(sorted_users.index[:10])\n",
    "top_inactive_users = list(sorted_users.index[-10:])\n",
    "print(f'Most active users: {top_active_users} and Most Inactive Users: {top_inactive_users}')\n"
   ]
  },
  {
   "cell_type": "markdown",
   "id": "b27845ee-ac1b-40c5-8b3b-dae88f76b27a",
   "metadata": {},
   "source": [
    "### Song Analysis"
   ]
  },
  {
   "cell_type": "code",
   "execution_count": 8,
   "id": "22fe54ba-8f29-4c81-be81-0602bc297f93",
   "metadata": {},
   "outputs": [
    {
     "name": "stdout",
     "output_type": "stream",
     "text": [
      "Number of unique songs: 378\n",
      "Number of unlistened songs: 4\n",
      "Most played songs: [180, 26, 105, 499, 46] and Least played songs: [379, 150, 84, 340, 418]\n"
     ]
    },
    {
     "data": {
      "text/plain": [
       "Text(0, 0.5, 'Number of Listens')"
      ]
     },
     "execution_count": 8,
     "metadata": {},
     "output_type": "execute_result"
    },
    {
     "data": {
      "image/png": "[encoded data removed]",
      "text/plain": [
       "<Figure size 640x480 with 1 Axes>"
      ]
     },
     "metadata": {},
     "output_type": "display_data"
    }
   ],
   "source": [
    "songs = df[\"song_id\"]\n",
    "\n",
    "# number of songs\n",
    "unique_songs = songs.nunique()\n",
    "print(f'Number of unique songs: {unique_songs}')\n",
    "\n",
    "# check for unrated songs\n",
    "all_songs = songs.unique()\n",
    "listen_count = df.groupby(\"song_id\")[\"listen_count\"].sum()\n",
    "listen_count = listen_count.reindex(all_songs, fill_value=0)\n",
    "unplayed = (listen_count == 0).sum()\n",
    "print(f'Number of unlistened songs: {unplayed}')\n",
    "\n",
    "#top 5 most/least played songs\n",
    "sorted_listen_count = listen_count.sort_values(ascending=True)\n",
    "top_played_songs = list(sorted_listen_count.index[:5])\n",
    "least_played_songs = list(sorted_listen_count.index[-5:])\n",
    "print(f'Most played songs: {top_played_songs} and Least played songs: {least_played_songs}')\n",
    "\n",
    "\n",
    "# plot listen counts\n",
    "plt.title(\"Songs and Listen Count Mapped\")\n",
    "plt.bar(listen_count.index, listen_count.values)\n",
    "plt.xlabel(\"Song ID\")\n",
    "plt.ylabel(\"Number of Listens\")\n"
   ]
  },
  {
   "cell_type": "markdown",
   "id": "9871ccd4-9ac3-4217-9191-9d9496086595",
   "metadata": {},
   "source": [
    "### Rating Patterns"
   ]
  },
  {
   "cell_type": "code",
   "execution_count": 10,
   "id": "6a08eabf-fef4-481e-bbd6-00dffb8f5a91",
   "metadata": {},
   "outputs": [
    {
     "data": {
      "text/plain": [
       "Text(0, 0.5, 'Frequency')"
      ]
     },
     "execution_count": 10,
     "metadata": {},
     "output_type": "execute_result"
    },
    {
     "data": {
      "image/png": "[encoded data removed]",
      "text/plain": [
       "<Figure size 640x480 with 1 Axes>"
      ]
     },
     "metadata": {},
     "output_type": "display_data"
    }
   ],
   "source": [
    "# ratings chart\n",
    "ratings = df[\"interaction\"].value_counts()\n",
    "interaction_type = [\"dislike\",\"like\",\"chime\"]\n",
    "plt.title(\"Interaction Freqency\")\n",
    "plt.bar(interaction_type, ratings.values)\n",
    "plt.xlabel(\"Interaction Type\")\n",
    "plt.ylabel(\"Frequency\")"
   ]
  },
  {
   "cell_type": "markdown",
   "id": "9bc919df-f41d-40ff-a918-6f375d833b82",
   "metadata": {},
   "source": [
    "### Matrix Sparsity"
   ]
  },
  {
   "cell_type": "code",
   "execution_count": 12,
   "id": "764ba752-d5be-4b3e-b4c0-aa9e3b15013a",
   "metadata": {},
   "outputs": [
    {
     "name": "stdout",
     "output_type": "stream",
     "text": [
      "Matrix sparsity: 88.20%\n"
     ]
    }
   ],
   "source": [
    "user_item_matrix = df.pivot(\n",
    "    index='user_id',\n",
    "    columns='song_id',\n",
    "    values='interaction'\n",
    ")\n",
    "\n",
    "# handling empty values\n",
    "user_item_matrix = user_item_matrix.fillna(0)\n",
    "sparsity = 1.0 - np.count_nonzero(user_item_matrix) / user_item_matrix.size\n",
    "print(f\"Matrix sparsity: {sparsity:.2%}\")\n"
   ]
  },
  {
   "cell_type": "markdown",
   "id": "316175e7-eb49-4b36-89bd-a773d3635ba1",
   "metadata": {},
   "source": [
    "## Data Preprocessing"
   ]
  },
  {
   "cell_type": "code",
   "execution_count": 14,
   "id": "7d90871f-cd87-44a1-8532-9da7f96277c6",
   "metadata": {},
   "outputs": [
    {
     "data": {
      "text/plain": [
       "(100, 378)"
      ]
     },
     "execution_count": 14,
     "metadata": {},
     "output_type": "execute_result"
    }
   ],
   "source": [
    "from scipy.sparse import csr_matrix\n",
    "# compressed sparse row\n",
    "\n",
    "sparse_matrix = csr_matrix(user_item_matrix.values)\n",
    "sparse_matrix.shape\n",
    "\n",
    "# 3 methods to explore: time-based splitting, leave-one-out, random splitting with user stratification"
   ]
  },
  {
   "cell_type": "markdown",
   "id": "eb1824d3-3df5-410e-bde7-dab23fc05450",
   "metadata": {},
   "source": [
    "### Time-based splitting"
   ]
  },
  {
   "cell_type": "code",
   "execution_count": 16,
   "id": "5fa5632e-d545-42ea-ab3e-345cd7bdff59",
   "metadata": {},
   "outputs": [
    {
     "name": "stdout",
     "output_type": "stream",
     "text": [
      "Size of Train matrix: (100, 378)    Size of Test matrix: (100, 378)\n"
     ]
    }
   ],
   "source": [
    "df_sorted  = df.sort_values(\"timestamp\")\n",
    "\n",
    "# determine split point (we'll be doing 80/20 split testing)\n",
    "split_idx = int(len(df_sorted)*0.8)\n",
    "\n",
    "df_train = df_sorted.iloc[:split_idx] #training set\n",
    "df_test = df_sorted.iloc[split_idx:] #testing set\n",
    "\n",
    "#check for users and songs in test that aren't in training\n",
    "#can't make good predictions for completely new users/songs\n",
    "all_users = sorted(set(df[\"user_id\"]))\n",
    "all_songs = sorted(set(df[\"song_id\"]))\n",
    "\n",
    "#training matrix\n",
    "train_matrix = df_train.pivot(\n",
    "    index=\"user_id\",\n",
    "    columns=\"song_id\",\n",
    "    values=\"interaction\"\n",
    ").fillna(0)\n",
    "\n",
    "train_matrix = train_matrix.reindex(index=all_users, columns=all_songs,fill_value=0)\n",
    "train_sparse = csr_matrix(train_matrix.values)\n",
    "\n",
    "#testing matrix\n",
    "test_matrix = df_test.pivot(\n",
    "    index=\"user_id\",\n",
    "    columns=\"song_id\",\n",
    "    values=\"interaction\"\n",
    ").fillna(0)\n",
    "test_matrix = test_matrix.reindex(index=all_users, columns=all_songs,fill_value=0)\n",
    "test_sparse = csr_matrix(test_matrix.values)\n",
    "\n",
    "#reindex used to ensure both test and train matrices have the same dimensions (size should be # of user-song combinations)\n",
    "#check size\n",
    "print(f'Size of Train matrix: {train_matrix.shape}    Size of Test matrix: {test_matrix.shape}')"
   ]
  },
  {
   "cell_type": "markdown",
   "id": "0eb71db4-8bfd-460f-bfb0-445187151d26",
   "metadata": {},
   "source": [
    "### Leave-one-out method"
   ]
  },
  {
   "cell_type": "raw",
   "id": "a43952f6-1f1d-462b-9696-d4adb989d007",
   "metadata": {},
   "source": [
    "Keeping one interaction per user for testing, while the rest of each user's interactions goes into the training set. This ensures that every user has at least one interaciton to test our predictions against."
   ]
  },
  {
   "cell_type": "code",
   "execution_count": 43,
   "id": "f68a112f-6d9e-49df-8d9e-575a547f3dee",
   "metadata": {},
   "outputs": [],
   "source": [
    "# random interacton set\n",
    "# returns a groupby object, takes one sample entry per user\n",
    "test_rn_interactions = df.groupby(\"user_id\").sample(n=1)\n",
    "#train set\n",
    "train_rn_interactions = df.drop(test_rn_interactions.index)\n",
    "\n",
    "# latest interaction set\n",
    "test_new_interactions = df.sort_values(\"timestamp\").groupby(\"user_id\").tail(1)\n",
    "train_new_interactions = df.drop(test_new_interactions.index)\n"
   ]
  },
  {
   "cell_type": "markdown",
   "id": "a8afda70-993d-4696-9431-a7fe5a87a5cd",
   "metadata": {},
   "source": [
    "### Random Splits with User Stratification"
   ]
  },
  {
   "cell_type": "code",
   "execution_count": 86,
   "id": "9194f3ca-c194-42b9-b3a0-ca7dde9a3b5b",
   "metadata": {},
   "outputs": [],
   "source": [
    "from sklearn.model_selection import train_test_split\n",
    "\n",
    "# number of interactions per user\n",
    "interaction_count = df.groupby(\"user_id\").size() #groups number of interactions by user, index is id and value is # of interactions\n",
    "stratification_labels = [\"low\",\"medium\",\"high\"]\n",
    "bins = pd.qcut(interaction_count, q=3, labels=stratification_labels) #divides series into equal sized bins\n",
    "# result: series, index is id, value is label\n",
    "\n",
    "user_bins = interaction_count.map(bins)\n",
    "\n",
    "unique_users = interaction_count.index\n",
    "\n",
    "x_train, x_test = train_test_split(unique_users,test_size=0.2,stratify=user_bins)"
   ]
  },
  {
   "cell_type": "markdown",
   "id": "00e7b473-0f57-4865-b3fc-6a6ce6b9c3cf",
   "metadata": {},
   "source": [
    "## Training with SVD"
   ]
  },
  {
   "cell_type": "code",
   "execution_count": 150,
   "id": "8f6e6071-5af6-454b-98b2-0da108a0b3c5",
   "metadata": {},
   "outputs": [
    {
     "data": {
      "text/plain": [
       "'\\nnote: fit() method requires s training set format created by surprise library, hence the additional processing\\n'"
      ]
     },
     "execution_count": 150,
     "metadata": {},
     "output_type": "execute_result"
    }
   ],
   "source": [
    "from surprise import SVD,Dataset, Reader\n",
    "from surprise.model_selection import cross_validate, train_test_split\n",
    "\n",
    "data_for_surprise = df[['user_id', 'song_id', 'interaction']]\n",
    "\n",
    "#reader parses the interaction values range\n",
    "reader = Reader(rating_scale=(-1,2))\n",
    "\n",
    "#converts panda df into surprise compatible dataset\n",
    "data = Dataset.load_from_df(\n",
    "    data_for_surprise, \n",
    "    reader)\n",
    "\n",
    "trainset, testset = train_test_split(data,test_size=0.2)\n",
    "\n",
    "model=SVD(\n",
    "    n_factors = 50, # number of features/dimensions for the users/items\n",
    "    n_epochs=50, # number of iterations\n",
    "    lr_all=0.005, # learning rate\n",
    "    reg_all=0.02 # regularization parameter\n",
    ")\n",
    "model.fit(trainset)\n",
    "\n",
    "'''\n",
    "note: fit() method requires s training set format created by surprise library, hence the additional processing\n",
    "'''"
   ]
  },
  {
   "cell_type": "markdown",
   "id": "7f4df6ea-4729-40c8-97c1-562a2b8ab369",
   "metadata": {},
   "source": [
    "## Testing"
   ]
  },
  {
   "cell_type": "code",
   "execution_count": 146,
   "id": "1e5b14a3-e16c-4b55-9ba3-f91f31b72e63",
   "metadata": {},
   "outputs": [
    {
     "name": "stdout",
     "output_type": "stream",
     "text": [
      "user: 9          item: 358        r_ui = -1.00   est = -0.17   {'was_impossible': False}\n",
      "user: 47         item: 56         r_ui = -1.00   est = 0.07   {'was_impossible': False}\n",
      "user: 89         item: 171        r_ui = 1.00   est = -0.67   {'was_impossible': False}\n",
      "user: 80         item: 215        r_ui = 2.00   est = 0.54   {'was_impossible': False}\n",
      "user: 85         item: 384        r_ui = 1.00   est = 0.61   {'was_impossible': False}\n",
      "RMSE: 1.1967\n",
      "MAE:  1.0636\n",
      "               precision    recall  f1-score   support\n",
      "\n",
      " Dislike (-1)       0.67      0.54      0.60       486\n",
      "     Like (1)       0.35      0.68      0.46       254\n",
      "Superlike (2)       0.33      0.01      0.01       152\n",
      "\n",
      "     accuracy                           0.49       892\n",
      "    macro avg       0.45      0.41      0.36       892\n",
      " weighted avg       0.52      0.49      0.46       892\n",
      "\n"
     ]
    }
   ],
   "source": [
    "from surprise import accuracy\n",
    "from sklearn.metrics import classification_report\n",
    "\n",
    "\n",
    "predictions = model.test(testset)\n",
    "for pred in predictions[:5]:\n",
    "    print(pred)\n",
    "accuracy.rmse(predictions)\n",
    "accuracy.mae(predictions)\n",
    "\n",
    "def discretize_prediction(pred):\n",
    "    if pred < 0: return -1\n",
    "    elif pred < 1.5: return 1\n",
    "    else: return 2\n",
    "\n",
    "actual = [pred.r_ui for pred in predictions]\n",
    "predicted = [discretize_prediction(pred.est) for pred in predictions]\n",
    "\n",
    "# Classification metrics\n",
    "print(classification_report(actual, predicted, target_names=[\"Dislike (-1)\", \"Like (1)\", \"Superlike (2)\"]))\n",
    "#r_ui = actual rating, est = predicted rating"
   ]
  },
  {
   "cell_type": "code",
   "execution_count": null,
   "id": "a319d3e5-64ed-4c27-b171-d98097c3305b",
   "metadata": {},
   "outputs": [],
   "source": [
    "## embeddings into cosine similarity"
   ]
  }
 ],
 "metadata": {
  "kernelspec": {
   "display_name": "Python [conda env:base] *",
   "language": "python",
   "name": "conda-base-py"
  },
  "language_info": {
   "codemirror_mode": {
    "name": "ipython",
    "version": 3
   },
   "file_extension": ".py",
   "mimetype": "text/x-python",
   "name": "python",
   "nbconvert_exporter": "python",
   "pygments_lexer": "ipython3",
   "version": "3.12.4"
  }
 },
 "nbformat": 4,
 "nbformat_minor": 5
}
