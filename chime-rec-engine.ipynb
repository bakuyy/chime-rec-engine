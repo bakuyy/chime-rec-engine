{
 "cells": [
  {
   "cell_type": "markdown",
   "id": "82fee886-3af7-4d25-babf-d2ace7672c89",
   "metadata": {},
   "source": [
    "## Imports"
   ]
  },
  {
   "cell_type": "code",
   "execution_count": 3,
   "id": "d636d3d8-938d-4e9f-b2cd-20f397abca6e",
   "metadata": {},
   "outputs": [],
   "source": [
    "import pandas as pd\n",
    "import numpy as np\n",
    "import seaborn as sns\n",
    "import matplotlib.pyplot as plt\n",
    "from sklearn.model_selection import train_test_split\n",
    "from scipy import sparse\n",
    "from surprise import Dataset, Reader, SVD\n",
    "from collections import Counter"
   ]
  },
  {
   "cell_type": "code",
   "execution_count": 4,
   "id": "f380c0a7-f111-4e27-b3c0-1f78e8abdc24",
   "metadata": {},
   "outputs": [
    {
     "data": {
      "text/html": [
       "<div>\n",
       "<style scoped>\n",
       "    .dataframe tbody tr th:only-of-type {\n",
       "        vertical-align: middle;\n",
       "    }\n",
       "\n",
       "    .dataframe tbody tr th {\n",
       "        vertical-align: top;\n",
       "    }\n",
       "\n",
       "    .dataframe thead th {\n",
       "        text-align: right;\n",
       "    }\n",
       "</style>\n",
       "<table border=\"1\" class=\"dataframe\">\n",
       "  <thead>\n",
       "    <tr style=\"text-align: right;\">\n",
       "      <th></th>\n",
       "      <th>user_id</th>\n",
       "      <th>song_id</th>\n",
       "      <th>listen_count</th>\n",
       "      <th>timestamp</th>\n",
       "      <th>interaction</th>\n",
       "      <th>genres</th>\n",
       "      <th>hashtag</th>\n",
       "    </tr>\n",
       "  </thead>\n",
       "  <tbody>\n",
       "    <tr>\n",
       "      <th>0</th>\n",
       "      <td>85</td>\n",
       "      <td>429</td>\n",
       "      <td>2</td>\n",
       "      <td>2024-02-13 18:37:23.159967</td>\n",
       "      <td>-1</td>\n",
       "      <td>['Ambient', 'Rock', 'Metal', 'Reggae', 'Opera'...</td>\n",
       "      <td>#MusicMood</td>\n",
       "    </tr>\n",
       "    <tr>\n",
       "      <th>1</th>\n",
       "      <td>17</td>\n",
       "      <td>312</td>\n",
       "      <td>1</td>\n",
       "      <td>2024-08-07 14:11:23.159979</td>\n",
       "      <td>-1</td>\n",
       "      <td>['Emo', 'Country', 'Dancehall', 'Trance', 'Reg...</td>\n",
       "      <td>#Dreamy,#TikTokViral</td>\n",
       "    </tr>\n",
       "    <tr>\n",
       "      <th>2</th>\n",
       "      <td>15</td>\n",
       "      <td>247</td>\n",
       "      <td>0</td>\n",
       "      <td>2024-10-04 20:25:23.159984</td>\n",
       "      <td>2</td>\n",
       "      <td>['Chillstep', 'Gospel', 'Emo', 'Acoustic', 'Gr...</td>\n",
       "      <td>NaN</td>\n",
       "    </tr>\n",
       "    <tr>\n",
       "      <th>3</th>\n",
       "      <td>11</td>\n",
       "      <td>25</td>\n",
       "      <td>0</td>\n",
       "      <td>2024-03-05 03:07:23.159987</td>\n",
       "      <td>-1</td>\n",
       "      <td>['Ambient', 'Metal', 'Synthwave', 'Funk']</td>\n",
       "      <td>#InnerPeace,#ChillVibes,#HealingThroughMusic,#...</td>\n",
       "    </tr>\n",
       "    <tr>\n",
       "      <th>4</th>\n",
       "      <td>65</td>\n",
       "      <td>160</td>\n",
       "      <td>0</td>\n",
       "      <td>2024-09-15 19:08:23.159991</td>\n",
       "      <td>2</td>\n",
       "      <td>['Latin', 'World', 'Dubstep', 'Soul', 'Rock', ...</td>\n",
       "      <td>#Mood,#MusicToFeelTo,#Emotional,#StoryOfMyLife...</td>\n",
       "    </tr>\n",
       "  </tbody>\n",
       "</table>\n",
       "</div>"
      ],
      "text/plain": [
       "   user_id  song_id  listen_count                   timestamp  interaction  \\\n",
       "0       85      429             2  2024-02-13 18:37:23.159967           -1   \n",
       "1       17      312             1  2024-08-07 14:11:23.159979           -1   \n",
       "2       15      247             0  2024-10-04 20:25:23.159984            2   \n",
       "3       11       25             0  2024-03-05 03:07:23.159987           -1   \n",
       "4       65      160             0  2024-09-15 19:08:23.159991            2   \n",
       "\n",
       "                                              genres  \\\n",
       "0  ['Ambient', 'Rock', 'Metal', 'Reggae', 'Opera'...   \n",
       "1  ['Emo', 'Country', 'Dancehall', 'Trance', 'Reg...   \n",
       "2  ['Chillstep', 'Gospel', 'Emo', 'Acoustic', 'Gr...   \n",
       "3          ['Ambient', 'Metal', 'Synthwave', 'Funk']   \n",
       "4  ['Latin', 'World', 'Dubstep', 'Soul', 'Rock', ...   \n",
       "\n",
       "                                             hashtag  \n",
       "0                                         #MusicMood  \n",
       "1                               #Dreamy,#TikTokViral  \n",
       "2                                                NaN  \n",
       "3  #InnerPeace,#ChillVibes,#HealingThroughMusic,#...  \n",
       "4  #Mood,#MusicToFeelTo,#Emotional,#StoryOfMyLife...  "
      ]
     },
     "execution_count": 4,
     "metadata": {},
     "output_type": "execute_result"
    }
   ],
   "source": [
    "df = pd.read_csv(\"training_data/data.csv\")\n",
    "df.head()"
   ]
  },
  {
   "cell_type": "markdown",
   "id": "d0e389f3-e38f-4de7-8027-2b9f127e0c99",
   "metadata": {},
   "source": [
    "## Data Analysis"
   ]
  },
  {
   "cell_type": "markdown",
   "id": "8880b9da-8e4c-4c6a-8591-e871dc2f44f4",
   "metadata": {},
   "source": [
    "### User Behaviour Analysis"
   ]
  },
  {
   "cell_type": "code",
   "execution_count": 69,
   "id": "f2fc91b9-06ae-490e-b0e5-bd857efc774e",
   "metadata": {},
   "outputs": [
    {
     "name": "stdout",
     "output_type": "stream",
     "text": [
      "Average number of listens per user: 44.31\n",
      "Most active users: [60, 40, 55, 36, 46, 90, 23, 86, 84, 61] and Most Inactive Users: [96, 76, 88, 13, 62, 33, 81, 27, 44, 24]\n"
     ]
    },
    {
     "data": {
      "text/plain": [
       "([0,\n",
       "  1,\n",
       "  2,\n",
       "  3,\n",
       "  4,\n",
       "  5,\n",
       "  6,\n",
       "  7,\n",
       "  8,\n",
       "  9,\n",
       "  10,\n",
       "  11,\n",
       "  12,\n",
       "  13,\n",
       "  14,\n",
       "  15,\n",
       "  16,\n",
       "  17,\n",
       "  18,\n",
       "  19,\n",
       "  20,\n",
       "  21,\n",
       "  22,\n",
       "  23,\n",
       "  24,\n",
       "  25,\n",
       "  26,\n",
       "  27,\n",
       "  28,\n",
       "  29,\n",
       "  30,\n",
       "  31,\n",
       "  32,\n",
       "  33,\n",
       "  34,\n",
       "  35,\n",
       "  36,\n",
       "  37,\n",
       "  38,\n",
       "  39,\n",
       "  40,\n",
       "  41,\n",
       "  42,\n",
       "  43,\n",
       "  44,\n",
       "  45,\n",
       "  46,\n",
       "  47,\n",
       "  48,\n",
       "  49],\n",
       " [Text(0, 0, '49'),\n",
       "  Text(1, 0, '0'),\n",
       "  Text(2, 0, '15'),\n",
       "  Text(3, 0, '74'),\n",
       "  Text(4, 0, '97'),\n",
       "  Text(5, 0, '20'),\n",
       "  Text(6, 0, '53'),\n",
       "  Text(7, 0, '57'),\n",
       "  Text(8, 0, '28'),\n",
       "  Text(9, 0, '86'),\n",
       "  Text(10, 0, '88'),\n",
       "  Text(11, 0, '21'),\n",
       "  Text(12, 0, '25'),\n",
       "  Text(13, 0, '80'),\n",
       "  Text(14, 0, '89'),\n",
       "  Text(15, 0, '7'),\n",
       "  Text(16, 0, '51'),\n",
       "  Text(17, 0, '41'),\n",
       "  Text(18, 0, '77'),\n",
       "  Text(19, 0, '96'),\n",
       "  Text(20, 0, '48'),\n",
       "  Text(21, 0, '78'),\n",
       "  Text(22, 0, '87'),\n",
       "  Text(23, 0, '59'),\n",
       "  Text(24, 0, '63'),\n",
       "  Text(25, 0, '94'),\n",
       "  Text(26, 0, '33'),\n",
       "  Text(27, 0, '64'),\n",
       "  Text(28, 0, '30'),\n",
       "  Text(29, 0, '24'),\n",
       "  Text(30, 0, '62'),\n",
       "  Text(31, 0, '2'),\n",
       "  Text(32, 0, '27'),\n",
       "  Text(33, 0, '10'),\n",
       "  Text(34, 0, '67'),\n",
       "  Text(35, 0, '98'),\n",
       "  Text(36, 0, '9'),\n",
       "  Text(37, 0, '68'),\n",
       "  Text(38, 0, '22'),\n",
       "  Text(39, 0, '92'),\n",
       "  Text(40, 0, '83'),\n",
       "  Text(41, 0, '44'),\n",
       "  Text(42, 0, '93'),\n",
       "  Text(43, 0, '76'),\n",
       "  Text(44, 0, '26'),\n",
       "  Text(45, 0, '45'),\n",
       "  Text(46, 0, '95'),\n",
       "  Text(47, 0, '16'),\n",
       "  Text(48, 0, '13'),\n",
       "  Text(49, 0, '29')])"
      ]
     },
     "execution_count": 69,
     "metadata": {},
     "output_type": "execute_result"
    },
    {
     "data": {
      "image/png": "[encoded data removed]",
      "text/plain": [
       "<Figure size 640x480 with 1 Axes>"
      ]
     },
     "metadata": {},
     "output_type": "display_data"
    }
   ],
   "source": [
    "# users = Counter(sorted(df[\"user_id\"]))\n",
    "users = df[\"user_id\"].value_counts()\n",
    "\n",
    "# average listens per user\n",
    "average_ratings_per_user = users.mean()\n",
    "print(\"Average number of listens per user:\",average_ratings_per_user)\n",
    "\n",
    "# top 10 active/inactive users\n",
    "listen_count_users = df.groupby(\"user_id\")[\"listen_count\"].sum()\n",
    "sorted_users = listen_count_users.sort_values(ascending=True)\n",
    "top_active_users = list(sorted_users.index[:10])\n",
    "top_inactive_users = list(sorted_users.index[-10:])\n",
    "print(f'Most active users: {top_active_users} and Most Inactive Users: {top_inactive_users}')\n",
    "\n",
    "# plot user df\n",
    "users_df = pd.DataFrame([users]).T.reset_index()[:50]\n",
    "users_df.columns=[\"user_id\",\"listens\"]\n",
    "sorted_df = users_df.sort_values(by=\"listens\",ascending=True)\n",
    "sorted_df\n",
    "plt.title(\"Users and df Mapped\")\n",
    "sns.barplot(\n",
    "    x='user_id',\n",
    "    y='listens',\n",
    "    data=sorted_df,\n",
    "    order=sorted_df['user_id']\n",
    ")\n",
    "plt.xticks(rotation=90)\n"
   ]
  },
  {
   "cell_type": "markdown",
   "id": "b27845ee-ac1b-40c5-8b3b-dae88f76b27a",
   "metadata": {},
   "source": [
    "### Song Analysis"
   ]
  },
  {
   "cell_type": "code",
   "execution_count": 9,
   "id": "22fe54ba-8f29-4c81-be81-0602bc297f93",
   "metadata": {},
   "outputs": [
    {
     "name": "stdout",
     "output_type": "stream",
     "text": [
      "Number of unique songs: 389\n",
      "Number of unlistened songs: 11\n",
      "Most played songs: [422, 474, 350, 87, 34] and Least played songs: [45, 320, 334, 314, 281]\n"
     ]
    },
    {
     "data": {
      "text/plain": [
       "Text(0, 0.5, 'Number of Listens')"
      ]
     },
     "execution_count": 9,
     "metadata": {},
     "output_type": "execute_result"
    },
    {
     "data": {
      "image/png": "[encoded data removed]",
      "text/plain": [
       "<Figure size 640x480 with 1 Axes>"
      ]
     },
     "metadata": {},
     "output_type": "display_data"
    }
   ],
   "source": [
    "songs = df[\"song_id\"]\n",
    "\n",
    "# number of songs\n",
    "unique_songs = songs.nunique()\n",
    "print(f'Number of unique songs: {unique_songs}')\n",
    "\n",
    "# check for unrated songs\n",
    "all_songs = songs.unique()\n",
    "listen_count = df.groupby(\"song_id\")[\"listen_count\"].sum()\n",
    "listen_count = listen_count.reindex(all_songs, fill_value=0)\n",
    "unplayed = (listen_count == 0).sum()\n",
    "print(f'Number of unlistened songs: {unplayed}')\n",
    "\n",
    "#top 5 most/least played songs\n",
    "sorted_listen_count = listen_count.sort_values(ascending=True)\n",
    "top_played_songs = list(sorted_listen_count.index[:5])\n",
    "least_played_songs = list(sorted_listen_count.index[-5:])\n",
    "print(f'Most played songs: {top_played_songs} and Least played songs: {least_played_songs}')\n",
    "\n",
    "\n",
    "# plot listen counts\n",
    "plt.title(\"Songs and Listen Count Mapped\")\n",
    "plt.bar(listen_count.index, listen_count.values)\n",
    "plt.xlabel(\"Song ID\")\n",
    "plt.ylabel(\"Number of Listens\")\n"
   ]
  },
  {
   "cell_type": "markdown",
   "id": "3e15dec6-568d-43d7-a59a-28684f6d0a14",
   "metadata": {},
   "source": [
    "### Genres"
   ]
  },
  {
   "cell_type": "code",
   "execution_count": 11,
   "id": "0cb965ad-de72-40c4-8e90-529671c36000",
   "metadata": {},
   "outputs": [
    {
     "data": {
      "text/plain": [
       "([0,\n",
       "  1,\n",
       "  2,\n",
       "  3,\n",
       "  4,\n",
       "  5,\n",
       "  6,\n",
       "  7,\n",
       "  8,\n",
       "  9,\n",
       "  10,\n",
       "  11,\n",
       "  12,\n",
       "  13,\n",
       "  14,\n",
       "  15,\n",
       "  16,\n",
       "  17,\n",
       "  18,\n",
       "  19,\n",
       "  20,\n",
       "  21,\n",
       "  22,\n",
       "  23,\n",
       "  24,\n",
       "  25,\n",
       "  26,\n",
       "  27,\n",
       "  28,\n",
       "  29,\n",
       "  30,\n",
       "  31,\n",
       "  32,\n",
       "  33,\n",
       "  34,\n",
       "  35,\n",
       "  36,\n",
       "  37,\n",
       "  38,\n",
       "  39],\n",
       " [Text(0, 0, 'Metal'),\n",
       "  Text(1, 0, 'Chillstep'),\n",
       "  Text(2, 0, 'Trance'),\n",
       "  Text(3, 0, 'Electronic'),\n",
       "  Text(4, 0, 'Funk'),\n",
       "  Text(5, 0, 'Opera'),\n",
       "  Text(6, 0, 'Alternative'),\n",
       "  Text(7, 0, 'DrumAndBass'),\n",
       "  Text(8, 0, 'Classical'),\n",
       "  Text(9, 0, 'Indie'),\n",
       "  Text(10, 0, 'Disco'),\n",
       "  Text(11, 0, 'Techno'),\n",
       "  Text(12, 0, 'Ska'),\n",
       "  Text(13, 0, 'Emo'),\n",
       "  Text(14, 0, 'Grunge'),\n",
       "  Text(15, 0, 'House'),\n",
       "  Text(16, 0, 'Jazz'),\n",
       "  Text(17, 0, 'Country'),\n",
       "  Text(18, 0, 'Synthwave'),\n",
       "  Text(19, 0, 'Blues'),\n",
       "  Text(20, 0, 'EDM'),\n",
       "  Text(21, 0, 'Afrobeats'),\n",
       "  Text(22, 0, 'Reggae'),\n",
       "  Text(23, 0, 'Punk'),\n",
       "  Text(24, 0, 'Lo-fi'),\n",
       "  Text(25, 0, 'Latin'),\n",
       "  Text(26, 0, 'Dubstep'),\n",
       "  Text(27, 0, 'Acoustic'),\n",
       "  Text(28, 0, 'World'),\n",
       "  Text(29, 0, 'R&B'),\n",
       "  Text(30, 0, 'Rock'),\n",
       "  Text(31, 0, 'K-Pop'),\n",
       "  Text(32, 0, 'Soul'),\n",
       "  Text(33, 0, 'Pop'),\n",
       "  Text(34, 0, 'Trap'),\n",
       "  Text(35, 0, 'Gospel'),\n",
       "  Text(36, 0, 'Ambient'),\n",
       "  Text(37, 0, 'Folk'),\n",
       "  Text(38, 0, 'Hip-Hop'),\n",
       "  Text(39, 0, 'Dancehall')])"
      ]
     },
     "execution_count": 11,
     "metadata": {},
     "output_type": "execute_result"
    },
    {
     "data": {
      "image/png": "[encoded data removed]",
      "text/plain": [
       "<Figure size 640x480 with 1 Axes>"
      ]
     },
     "metadata": {},
     "output_type": "display_data"
    }
   ],
   "source": [
    "import ast \n",
    "from collections import Counter\n",
    "\n",
    "genres = df[\"genres\"].apply(ast.literal_eval)\n",
    "genre_freq = Counter(genre for song in genres for genre in song)\n",
    "\n",
    "genre_freq_df = pd.DataFrame([genre_freq]).T.reset_index()\n",
    "genre_freq_df.columns = ['genre','count']\n",
    "\n",
    "plt.title(\"Genres and Songs Mapped\")\n",
    "sns.barplot(x='genre',y='count', data=genre_freq_df.sort_values(by=\"count\", ascending=False))\n",
    "plt.xticks(rotation=90)"
   ]
  },
  {
   "cell_type": "markdown",
   "id": "9871ccd4-9ac3-4217-9191-9d9496086595",
   "metadata": {},
   "source": [
    "### Rating Patterns"
   ]
  },
  {
   "cell_type": "code",
   "execution_count": 13,
   "id": "6a08eabf-fef4-481e-bbd6-00dffb8f5a91",
   "metadata": {},
   "outputs": [
    {
     "data": {
      "text/plain": [
       "Text(0, 0.5, 'Frequency')"
      ]
     },
     "execution_count": 13,
     "metadata": {},
     "output_type": "execute_result"
    },
    {
     "data": {
      "image/png": "[encoded data removed]",
      "text/plain": [
       "<Figure size 640x480 with 1 Axes>"
      ]
     },
     "metadata": {},
     "output_type": "display_data"
    }
   ],
   "source": [
    "# ratings chart\n",
    "ratings = df[\"interaction\"].value_counts()\n",
    "interaction_type = [\"dislike\",\"like\",\"chime\"]\n",
    "plt.title(\"Interaction Freqency\")\n",
    "plt.bar(interaction_type, ratings.values)\n",
    "plt.xlabel(\"Interaction Type\")\n",
    "plt.ylabel(\"Frequency\")"
   ]
  },
  {
   "cell_type": "markdown",
   "id": "9bc919df-f41d-40ff-a918-6f375d833b82",
   "metadata": {},
   "source": [
    "### Matrix Sparsity"
   ]
  },
  {
   "cell_type": "code",
   "execution_count": 15,
   "id": "764ba752-d5be-4b3e-b4c0-aa9e3b15013a",
   "metadata": {},
   "outputs": [
    {
     "name": "stdout",
     "output_type": "stream",
     "text": [
      "Matrix sparsity: 88.61%\n"
     ]
    }
   ],
   "source": [
    "user_item_matrix = df.pivot(\n",
    "    index='user_id',\n",
    "    columns='song_id',\n",
    "    values='interaction'\n",
    ")\n",
    "\n",
    "# handling empty values\n",
    "user_item_matrix = user_item_matrix.fillna(0)\n",
    "sparsity = 1.0 - np.count_nonzero(user_item_matrix) / user_item_matrix.size\n",
    "print(f\"Matrix sparsity: {sparsity:.2%}\")\n"
   ]
  },
  {
   "cell_type": "markdown",
   "id": "316175e7-eb49-4b36-89bd-a773d3635ba1",
   "metadata": {},
   "source": [
    "## Data Preprocessing"
   ]
  },
  {
   "cell_type": "code",
   "execution_count": 17,
   "id": "7d90871f-cd87-44a1-8532-9da7f96277c6",
   "metadata": {},
   "outputs": [
    {
     "data": {
      "text/plain": [
       "(100, 389)"
      ]
     },
     "execution_count": 17,
     "metadata": {},
     "output_type": "execute_result"
    }
   ],
   "source": [
    "from scipy.sparse import csr_matrix\n",
    "# compressed sparse row\n",
    "\n",
    "sparse_matrix = csr_matrix(user_item_matrix.values)\n",
    "sparse_matrix.shape\n",
    "\n",
    "# 3 methods to explore: time-based splitting, leave-one-out, random splitting with user stratification"
   ]
  },
  {
   "cell_type": "markdown",
   "id": "eb1824d3-3df5-410e-bde7-dab23fc05450",
   "metadata": {},
   "source": [
    "### Time-based splitting"
   ]
  },
  {
   "cell_type": "code",
   "execution_count": 19,
   "id": "5fa5632e-d545-42ea-ab3e-345cd7bdff59",
   "metadata": {},
   "outputs": [
    {
     "name": "stdout",
     "output_type": "stream",
     "text": [
      "Size of Train matrix: (100, 389)    Size of Test matrix: (100, 389)\n"
     ]
    }
   ],
   "source": [
    "df_sorted  = df.sort_values(\"timestamp\")\n",
    "\n",
    "# determine split point (we'll be doing 80/20 split testing)\n",
    "split_idx = int(len(df_sorted)*0.8)\n",
    "\n",
    "df_train = df_sorted.iloc[:split_idx] #training set\n",
    "df_test = df_sorted.iloc[split_idx:] #testing set\n",
    "\n",
    "#check for users and songs in test that aren't in training\n",
    "#can't make good predictions for completely new users/songs\n",
    "all_users = sorted(set(df[\"user_id\"]))\n",
    "all_songs = sorted(set(df[\"song_id\"]))\n",
    "\n",
    "#training matrix\n",
    "train_matrix = df_train.pivot(\n",
    "    index=\"user_id\",\n",
    "    columns=\"song_id\",\n",
    "    values=\"interaction\"\n",
    ").fillna(0)\n",
    "\n",
    "train_matrix = train_matrix.reindex(index=all_users, columns=all_songs,fill_value=0)\n",
    "train_sparse = csr_matrix(train_matrix.values)\n",
    "\n",
    "#testing matrix\n",
    "test_matrix = df_test.pivot(\n",
    "    index=\"user_id\",\n",
    "    columns=\"song_id\",\n",
    "    values=\"interaction\"\n",
    ").fillna(0)\n",
    "test_matrix = test_matrix.reindex(index=all_users, columns=all_songs,fill_value=0)\n",
    "test_sparse = csr_matrix(test_matrix.values)\n",
    "\n",
    "#reindex used to ensure both test and train matrices have the same dimensions (size should be # of user-song combinations)\n",
    "#check size\n",
    "print(f'Size of Train matrix: {train_matrix.shape}    Size of Test matrix: {test_matrix.shape}')"
   ]
  },
  {
   "cell_type": "markdown",
   "id": "0eb71db4-8bfd-460f-bfb0-445187151d26",
   "metadata": {},
   "source": [
    "### Leave-one-out method"
   ]
  },
  {
   "cell_type": "raw",
   "id": "a43952f6-1f1d-462b-9696-d4adb989d007",
   "metadata": {},
   "source": [
    "Keeping one interaction per user for testing, while the rest of each user's interactions goes into the training set. This ensures that every user has at least one interaciton to test our predictions against."
   ]
  },
  {
   "cell_type": "code",
   "execution_count": 21,
   "id": "f68a112f-6d9e-49df-8d9e-575a547f3dee",
   "metadata": {},
   "outputs": [],
   "source": [
    "# random interacton set\n",
    "# returns a groupby object, takes one sample entry per user\n",
    "test_rn_interactions = df.groupby(\"user_id\").sample(n=1)\n",
    "#train set\n",
    "train_rn_interactions = df.drop(test_rn_interactions.index)\n",
    "\n",
    "# latest interaction set\n",
    "test_new_interactions = df.sort_values(\"timestamp\").groupby(\"user_id\").tail(1)\n",
    "train_new_interactions = df.drop(test_new_interactions.index)\n"
   ]
  },
  {
   "cell_type": "markdown",
   "id": "a8afda70-993d-4696-9431-a7fe5a87a5cd",
   "metadata": {},
   "source": [
    "### Random Splits with User Stratification"
   ]
  },
  {
   "cell_type": "code",
   "execution_count": 23,
   "id": "9194f3ca-c194-42b9-b3a0-ca7dde9a3b5b",
   "metadata": {},
   "outputs": [],
   "source": [
    "from sklearn.model_selection import train_test_split\n",
    "\n",
    "# number of interactions per user\n",
    "interaction_count = df.groupby(\"user_id\").size() #groups number of interactions by user, index is id and value is # of interactions\n",
    "stratification_labels = [\"low\",\"medium\",\"high\"]\n",
    "bins = pd.qcut(interaction_count, q=3, labels=stratification_labels) #divides series into equal sized bins\n",
    "# result: series, index is id, value is label\n",
    "\n",
    "user_bins = interaction_count.map(bins)\n",
    "\n",
    "unique_users = interaction_count.index\n",
    "\n",
    "x_train, x_test = train_test_split(unique_users,test_size=0.2,stratify=user_bins)"
   ]
  },
  {
   "cell_type": "markdown",
   "id": "00e7b473-0f57-4865-b3fc-6a6ce6b9c3cf",
   "metadata": {},
   "source": [
    "## Training with SVD"
   ]
  },
  {
   "cell_type": "code",
   "execution_count": 25,
   "id": "8f6e6071-5af6-454b-98b2-0da108a0b3c5",
   "metadata": {},
   "outputs": [
    {
     "data": {
      "text/plain": [
       "'\\nnote: fit() method requires s training set format created by surprise library, hence the additional processing\\n'"
      ]
     },
     "execution_count": 25,
     "metadata": {},
     "output_type": "execute_result"
    }
   ],
   "source": [
    "from surprise import SVD,Dataset, Reader\n",
    "from surprise.model_selection import cross_validate, train_test_split\n",
    "\n",
    "data_for_surprise = df[['user_id', 'song_id', 'interaction']]\n",
    "\n",
    "#reader parses the interaction values range\n",
    "reader = Reader(rating_scale=(-1,2))\n",
    "\n",
    "#converts panda df into surprise compatible dataset\n",
    "data = Dataset.load_from_df(\n",
    "    data_for_surprise, \n",
    "    reader)\n",
    "\n",
    "trainset, testset = train_test_split(data,test_size=0.2)\n",
    "\n",
    "model=SVD(\n",
    "    n_factors = 50, # number of features/dimensions for the users/items\n",
    "    n_epochs=50, # number of iterations\n",
    "    lr_all=0.005, # learning rate\n",
    "    reg_all=0.02 # regularization parameter\n",
    ")\n",
    "model.fit(trainset)\n",
    "\n",
    "'''\n",
    "note: fit() method requires s training set format created by surprise library, hence the additional processing\n",
    "'''"
   ]
  },
  {
   "cell_type": "markdown",
   "id": "399ae222-9d1b-4386-8714-4d58c95d312b",
   "metadata": {},
   "source": [
    "### String Matching"
   ]
  },
  {
   "cell_type": "code",
   "execution_count": 27,
   "id": "33a24326-67f0-49e6-8deb-9637213788a7",
   "metadata": {},
   "outputs": [],
   "source": [
    "# from fuzzywuzzy import process\n",
    "\n",
    "# def song_finder(title):\n",
    "    \n",
    "\n"
   ]
  },
  {
   "cell_type": "markdown",
   "id": "7f4df6ea-4729-40c8-97c1-562a2b8ab369",
   "metadata": {},
   "source": [
    "## Testing"
   ]
  },
  {
   "cell_type": "code",
   "execution_count": 29,
   "id": "1e5b14a3-e16c-4b55-9ba3-f91f31b72e63",
   "metadata": {},
   "outputs": [],
   "source": [
    "# from surprise import accuracy\n",
    "# from sklearn.metrics import classification_report\n",
    "\n",
    "\n",
    "# predictions = model.test(testset)\n",
    "# for pred in predictions[:5]:\n",
    "#     print(pred)\n",
    "# accuracy.rmse(predictions)\n",
    "# accuracy.mae(predictions)\n",
    "\n",
    "# def discretize_prediction(pred):\n",
    "#     if pred < 0: return -1\n",
    "#     elif pred < 1.5: return 1\n",
    "#     else: return 2\n",
    "\n",
    "# actual = [pred.r_ui for pred in predictions]\n",
    "# predicted = [discretize_prediction(pred.est) for pred in predictions]\n",
    "\n",
    "# # Classification metrics\n",
    "# print(classification_report(actual, predicted, target_names=[\"Dislike (-1)\", \"Like (1)\", \"Superlike (2)\"]))\n",
    "# #r_ui = actual rating, est = predicted rating"
   ]
  },
  {
   "cell_type": "code",
   "execution_count": null,
   "id": "a319d3e5-64ed-4c27-b171-d98097c3305b",
   "metadata": {},
   "outputs": [],
   "source": []
  }
 ],
 "metadata": {
  "kernelspec": {
   "display_name": "Python [conda env:base] *",
   "language": "python",
   "name": "conda-base-py"
  },
  "language_info": {
   "codemirror_mode": {
    "name": "ipython",
    "version": 3
   },
   "file_extension": ".py",
   "mimetype": "text/x-python",
   "name": "python",
   "nbconvert_exporter": "python",
   "pygments_lexer": "ipython3",
   "version": "3.12.4"
  }
 },
 "nbformat": 4,
 "nbformat_minor": 5
}
