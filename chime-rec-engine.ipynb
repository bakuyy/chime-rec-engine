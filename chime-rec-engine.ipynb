{
 "cells": [
  {
   "cell_type": "markdown",
   "id": "82fee886-3af7-4d25-babf-d2ace7672c89",
   "metadata": {},
   "source": [
    "## Imports"
   ]
  },
  {
   "cell_type": "code",
   "execution_count": 2,
   "id": "d636d3d8-938d-4e9f-b2cd-20f397abca6e",
   "metadata": {},
   "outputs": [],
   "source": [
    "import pandas as pd\n",
    "import numpy as np\n",
    "import seaborn as sns\n",
    "import matplotlib.pyplot as plt\n",
    "from sklearn.model_selection import train_test_split\n",
    "from scipy import sparse\n",
    "from surprise import Dataset, Reader, SVD\n",
    "from collections import Counter"
   ]
  },
  {
   "cell_type": "code",
   "execution_count": 3,
   "id": "f380c0a7-f111-4e27-b3c0-1f78e8abdc24",
   "metadata": {},
   "outputs": [
    {
     "data": {
      "text/html": [
       "<div>\n",
       "<style scoped>\n",
       "    .dataframe tbody tr th:only-of-type {\n",
       "        vertical-align: middle;\n",
       "    }\n",
       "\n",
       "    .dataframe tbody tr th {\n",
       "        vertical-align: top;\n",
       "    }\n",
       "\n",
       "    .dataframe thead th {\n",
       "        text-align: right;\n",
       "    }\n",
       "</style>\n",
       "<table border=\"1\" class=\"dataframe\">\n",
       "  <thead>\n",
       "    <tr style=\"text-align: right;\">\n",
       "      <th></th>\n",
       "      <th>user_id</th>\n",
       "      <th>song_id</th>\n",
       "      <th>listen_count</th>\n",
       "      <th>timestamp</th>\n",
       "      <th>interaction</th>\n",
       "    </tr>\n",
       "  </thead>\n",
       "  <tbody>\n",
       "    <tr>\n",
       "      <th>0</th>\n",
       "      <td>66</td>\n",
       "      <td>133</td>\n",
       "      <td>3</td>\n",
       "      <td>2024-10-13 14:06:06.191414</td>\n",
       "      <td>2</td>\n",
       "    </tr>\n",
       "    <tr>\n",
       "      <th>1</th>\n",
       "      <td>10</td>\n",
       "      <td>286</td>\n",
       "      <td>1</td>\n",
       "      <td>2024-04-11 19:22:06.191437</td>\n",
       "      <td>0</td>\n",
       "    </tr>\n",
       "    <tr>\n",
       "      <th>2</th>\n",
       "      <td>79</td>\n",
       "      <td>201</td>\n",
       "      <td>1</td>\n",
       "      <td>2025-01-11 04:56:06.191443</td>\n",
       "      <td>0</td>\n",
       "    </tr>\n",
       "    <tr>\n",
       "      <th>3</th>\n",
       "      <td>24</td>\n",
       "      <td>255</td>\n",
       "      <td>1</td>\n",
       "      <td>2024-03-23 00:11:06.191447</td>\n",
       "      <td>0</td>\n",
       "    </tr>\n",
       "    <tr>\n",
       "      <th>4</th>\n",
       "      <td>62</td>\n",
       "      <td>146</td>\n",
       "      <td>1</td>\n",
       "      <td>2024-01-28 09:23:06.191451</td>\n",
       "      <td>2</td>\n",
       "    </tr>\n",
       "  </tbody>\n",
       "</table>\n",
       "</div>"
      ],
      "text/plain": [
       "   user_id  song_id  listen_count                   timestamp  interaction\n",
       "0       66      133             3  2024-10-13 14:06:06.191414            2\n",
       "1       10      286             1  2024-04-11 19:22:06.191437            0\n",
       "2       79      201             1  2025-01-11 04:56:06.191443            0\n",
       "3       24      255             1  2024-03-23 00:11:06.191447            0\n",
       "4       62      146             1  2024-01-28 09:23:06.191451            2"
      ]
     },
     "execution_count": 3,
     "metadata": {},
     "output_type": "execute_result"
    }
   ],
   "source": [
    "df = pd.read_csv(\"training_data/data.csv\")\n",
    "df.head()"
   ]
  },
  {
   "cell_type": "markdown",
   "id": "d0e389f3-e38f-4de7-8027-2b9f127e0c99",
   "metadata": {},
   "source": [
    "## Data Analysis"
   ]
  },
  {
   "cell_type": "markdown",
   "id": "8880b9da-8e4c-4c6a-8591-e871dc2f44f4",
   "metadata": {},
   "source": [
    "### User Behaviour Analysis"
   ]
  },
  {
   "cell_type": "code",
   "execution_count": 6,
   "id": "f2fc91b9-06ae-490e-b0e5-bd857efc774e",
   "metadata": {},
   "outputs": [
    {
     "name": "stdout",
     "output_type": "stream",
     "text": [
      "Average number of listens per user: 44.71\n",
      "Most active users: [26, 95, 25, 12, 62, 58, 28, 37, 4, 36] and Most Inactive Users: [22, 57, 8, 43, 30, 42, 6, 44, 29, 74]\n"
     ]
    },
    {
     "data": {
      "image/png": "[encoded data removed]",
      "text/plain": [
       "<Figure size 640x480 with 1 Axes>"
      ]
     },
     "metadata": {},
     "output_type": "display_data"
    }
   ],
   "source": [
    "# users = Counter(sorted(df[\"user_id\"]))\n",
    "users = df[\"user_id\"].value_counts()\n",
    "\n",
    "# plot user df\n",
    "plt.title(\"Users and df Mapped\")\n",
    "plt.bar(users.index,users.values)\n",
    "plt.xlabel(\"User ID\")\n",
    "plt.ylabel(\"# of Ratings\")\n",
    "\n",
    "# average listens per user\n",
    "average_ratings_per_user = users.mean()\n",
    "print(\"Average number of listens per user:\",average_ratings_per_user)\n",
    "\n",
    "# top 10 active/inactive users\n",
    "listen_count_users = df.groupby(\"user_id\")[\"listen_count\"].sum()\n",
    "sorted_users = listen_count_users.sort_values(ascending=True)\n",
    "top_active_users = list(sorted_users.index[:10])\n",
    "top_inactive_users = list(sorted_users.index[-10:])\n",
    "print(f'Most active users: {top_active_users} and Most Inactive Users: {top_inactive_users}')\n"
   ]
  },
  {
   "cell_type": "markdown",
   "id": "b27845ee-ac1b-40c5-8b3b-dae88f76b27a",
   "metadata": {},
   "source": [
    "### Song Analysis"
   ]
  },
  {
   "cell_type": "code",
   "execution_count": 8,
   "id": "22fe54ba-8f29-4c81-be81-0602bc297f93",
   "metadata": {},
   "outputs": [
    {
     "name": "stdout",
     "output_type": "stream",
     "text": [
      "Number of unique songs: 377\n",
      "Number of unlistened songs: 3\n",
      "Most played songs: [45, 499, 94, 132, 444] and Least played songs: [425, 462, 461, 480, 1]\n"
     ]
    },
    {
     "data": {
      "text/plain": [
       "Text(0, 0.5, 'Number of Listens')"
      ]
     },
     "execution_count": 8,
     "metadata": {},
     "output_type": "execute_result"
    },
    {
     "data": {
      "image/png": "[encoded data removed]",
      "text/plain": [
       "<Figure size 640x480 with 1 Axes>"
      ]
     },
     "metadata": {},
     "output_type": "display_data"
    }
   ],
   "source": [
    "songs = df[\"song_id\"]\n",
    "\n",
    "# number of songs\n",
    "unique_songs = songs.nunique()\n",
    "print(f'Number of unique songs: {unique_songs}')\n",
    "\n",
    "# check for unrated songs\n",
    "all_songs = songs.unique()\n",
    "listen_count = df.groupby(\"song_id\")[\"listen_count\"].sum()\n",
    "listen_count = listen_count.reindex(all_songs, fill_value=0)\n",
    "unplayed = (listen_count == 0).sum()\n",
    "print(f'Number of unlistened songs: {unplayed}')\n",
    "\n",
    "#top 5 most/least played songs\n",
    "sorted_listen_count = listen_count.sort_values(ascending=True)\n",
    "top_played_songs = list(sorted_listen_count.index[:5])\n",
    "least_played_songs = list(sorted_listen_count.index[-5:])\n",
    "print(f'Most played songs: {top_played_songs} and Least played songs: {least_played_songs}')\n",
    "\n",
    "\n",
    "# plot listen counts\n",
    "plt.title(\"Songs and Listen Count Mapped\")\n",
    "plt.bar(listen_count.index, listen_count.values)\n",
    "plt.xlabel(\"Song ID\")\n",
    "plt.ylabel(\"Number of Listens\")\n"
   ]
  },
  {
   "cell_type": "markdown",
   "id": "9871ccd4-9ac3-4217-9191-9d9496086595",
   "metadata": {},
   "source": [
    "### Rating Patterns"
   ]
  },
  {
   "cell_type": "code",
   "execution_count": 10,
   "id": "6a08eabf-fef4-481e-bbd6-00dffb8f5a91",
   "metadata": {},
   "outputs": [
    {
     "data": {
      "text/plain": [
       "Text(0, 0.5, 'Frequency')"
      ]
     },
     "execution_count": 10,
     "metadata": {},
     "output_type": "execute_result"
    },
    {
     "data": {
      "image/png": "[encoded data removed]",
      "text/plain": [
       "<Figure size 640x480 with 1 Axes>"
      ]
     },
     "metadata": {},
     "output_type": "display_data"
    }
   ],
   "source": [
    "# ratings chart\n",
    "ratings = df[\"interaction\"].value_counts()\n",
    "interaction_type = [\"dislike\",\"like\",\"chime\"]\n",
    "plt.title(\"Interaction Freqency\")\n",
    "plt.bar(interaction_type, ratings.values)\n",
    "plt.xlabel(\"Interaction Type\")\n",
    "plt.ylabel(\"Frequency\")"
   ]
  },
  {
   "cell_type": "markdown",
   "id": "9bc919df-f41d-40ff-a918-6f375d833b82",
   "metadata": {},
   "source": [
    "### Matrix Sparsity"
   ]
  },
  {
   "cell_type": "code",
   "execution_count": 27,
   "id": "764ba752-d5be-4b3e-b4c0-aa9e3b15013a",
   "metadata": {},
   "outputs": [
    {
     "name": "stdout",
     "output_type": "stream",
     "text": [
      "Matrix sparsity: 94.52%\n"
     ]
    }
   ],
   "source": [
    "user_item_matrix = df.pivot(\n",
    "    index='user_id',\n",
    "    columns='song_id',\n",
    "    values='interaction'\n",
    ")\n",
    "\n",
    "# handling empty values\n",
    "user_item_matrix = user_item_matrix.fillna(0)\n",
    "sparsity = 1.0 - np.count_nonzero(user_item_matrix) / user_item_matrix.size\n",
    "print(f\"Matrix sparsity: {sparsity:.2%}\")\n"
   ]
  },
  {
   "cell_type": "markdown",
   "id": "316175e7-eb49-4b36-89bd-a773d3635ba1",
   "metadata": {},
   "source": [
    "## Data Preprocessing"
   ]
  },
  {
   "cell_type": "code",
   "execution_count": 35,
   "id": "7d90871f-cd87-44a1-8532-9da7f96277c6",
   "metadata": {},
   "outputs": [
    {
     "data": {
      "text/plain": [
       "(100, 377)"
      ]
     },
     "execution_count": 35,
     "metadata": {},
     "output_type": "execute_result"
    }
   ],
   "source": [
    "from scipy.sparse import csr_matrix\n",
    "# compressed sparse row\n",
    "\n",
    "sparse_matrix = csr_matrix(user_item_matrix.values)\n",
    "sparse_matrix.shape\n",
    "\n",
    "# 3 methods to explore: time-based splitting, leave-one-out, random splitting with user stratification"
   ]
  },
  {
   "cell_type": "markdown",
   "id": "eb1824d3-3df5-410e-bde7-dab23fc05450",
   "metadata": {},
   "source": [
    "### Time-based splitting"
   ]
  },
  {
   "cell_type": "code",
   "execution_count": 38,
   "id": "5fa5632e-d545-42ea-ab3e-345cd7bdff59",
   "metadata": {},
   "outputs": [
    {
     "name": "stdout",
     "output_type": "stream",
     "text": [
      "  (0, 13)\t2.0\n",
      "  (0, 30)\t1.0\n",
      "  (0, 37)\t2.0\n",
      "  (0, 46)\t1.0\n",
      "  (0, 47)\t1.0\n",
      "  (0, 57)\t1.0\n",
      "  (0, 58)\t2.0\n",
      "  (0, 60)\t1.0\n",
      "  (0, 69)\t1.0\n",
      "  (0, 95)\t1.0\n",
      "  (0, 115)\t1.0\n",
      "  (0, 123)\t2.0\n",
      "  (0, 126)\t1.0\n",
      "  (0, 132)\t1.0\n",
      "  (0, 138)\t1.0\n",
      "  (0, 142)\t1.0\n",
      "  (0, 153)\t2.0\n",
      "  (0, 164)\t1.0\n",
      "  (0, 165)\t1.0\n",
      "  (0, 167)\t1.0\n",
      "  (0, 172)\t1.0\n",
      "  (0, 173)\t1.0\n",
      "  (0, 200)\t2.0\n",
      "  (0, 215)\t1.0\n",
      "  (0, 217)\t2.0\n",
      "  :\t:\n",
      "  (98, 55)\t1.0\n",
      "  (98, 78)\t2.0\n",
      "  (98, 103)\t1.0\n",
      "  (98, 104)\t2.0\n",
      "  (98, 181)\t1.0\n",
      "  (98, 200)\t1.0\n",
      "  (98, 221)\t1.0\n",
      "  (98, 232)\t1.0\n",
      "  (98, 262)\t1.0\n",
      "  (98, 285)\t1.0\n",
      "  (98, 340)\t1.0\n",
      "  (99, 24)\t2.0\n",
      "  (99, 29)\t1.0\n",
      "  (99, 46)\t2.0\n",
      "  (99, 78)\t1.0\n",
      "  (99, 107)\t2.0\n",
      "  (99, 125)\t1.0\n",
      "  (99, 187)\t1.0\n",
      "  (99, 208)\t1.0\n",
      "  (99, 211)\t1.0\n",
      "  (99, 217)\t1.0\n",
      "  (99, 272)\t1.0\n",
      "  (99, 303)\t1.0\n",
      "  (99, 314)\t1.0\n",
      "  (99, 360)\t2.0\n"
     ]
    }
   ],
   "source": [
    "df_sorted  = df.sort_values(\"timestamp\")\n",
    "\n",
    "# determine split point (we'll be doing 80/20 split testing)\n",
    "split_idx = int(len(df_sorted)*0.8)\n",
    "\n",
    "df_train = df_sorted.iloc[:split_idx] #training set\n",
    "df_test = df_sorted.iloc[split_idx:] #testing set\n",
    "\n",
    "#training matrix\n",
    "train_matrix = df_train.pivot(\n",
    "    index=\"user_id\",\n",
    "    columns=\"song_id\",\n",
    "    values=\"interaction\"\n",
    ").fillna(0)\n",
    "train_sparse = csr_matrix(train_matrix.values)\n",
    "\n",
    "#testing matrix\n",
    "test_matrix = df_test.pivot(\n",
    "    index=\"user_id\",\n",
    "    columns=\"song_id\",\n",
    "    values=\"interaction\"\n",
    ").fillna(0)\n",
    "\n",
    "test_sparse = csr_matrix(test_matrix.values)\n",
    "\n",
    "print(train_sparse)"
   ]
  },
  {
   "cell_type": "code",
   "execution_count": null,
   "id": "ef485cf8-4f72-486e-abed-c68fa296ffd1",
   "metadata": {},
   "outputs": [],
   "source": []
  }
 ],
 "metadata": {
  "kernelspec": {
   "display_name": "Python [conda env:base] *",
   "language": "python",
   "name": "conda-base-py"
  },
  "language_info": {
   "codemirror_mode": {
    "name": "ipython",
    "version": 3
   },
   "file_extension": ".py",
   "mimetype": "text/x-python",
   "name": "python",
   "nbconvert_exporter": "python",
   "pygments_lexer": "ipython3",
   "version": "3.12.4"
  }
 },
 "nbformat": 4,
 "nbformat_minor": 5
}
