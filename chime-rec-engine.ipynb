{
 "cells": [
  {
   "cell_type": "markdown",
   "id": "82fee886-3af7-4d25-babf-d2ace7672c89",
   "metadata": {},
   "source": [
    "## Imports"
   ]
  },
  {
   "cell_type": "code",
   "execution_count": 25,
   "id": "d636d3d8-938d-4e9f-b2cd-20f397abca6e",
   "metadata": {},
   "outputs": [],
   "source": [
    "import pandas as pd\n",
    "import numpy as np\n",
    "import seaborn as sns\n",
    "import matplotlib.pyplot as plt\n",
    "from sklearn.model_selection import train_test_split\n",
    "from scipy import sparse\n",
    "from surprise import Dataset, Reader, SVD\n",
    "from collections import Counter"
   ]
  },
  {
   "cell_type": "code",
   "execution_count": 27,
   "id": "f380c0a7-f111-4e27-b3c0-1f78e8abdc24",
   "metadata": {},
   "outputs": [
    {
     "data": {
      "text/html": [
       "<div>\n",
       "<style scoped>\n",
       "    .dataframe tbody tr th:only-of-type {\n",
       "        vertical-align: middle;\n",
       "    }\n",
       "\n",
       "    .dataframe tbody tr th {\n",
       "        vertical-align: top;\n",
       "    }\n",
       "\n",
       "    .dataframe thead th {\n",
       "        text-align: right;\n",
       "    }\n",
       "</style>\n",
       "<table border=\"1\" class=\"dataframe\">\n",
       "  <thead>\n",
       "    <tr style=\"text-align: right;\">\n",
       "      <th></th>\n",
       "      <th>user_id</th>\n",
       "      <th>song_id</th>\n",
       "      <th>interaction</th>\n",
       "      <th>listen_count</th>\n",
       "      <th>timestamp</th>\n",
       "    </tr>\n",
       "  </thead>\n",
       "  <tbody>\n",
       "    <tr>\n",
       "      <th>0</th>\n",
       "      <td>34</td>\n",
       "      <td>8</td>\n",
       "      <td>1</td>\n",
       "      <td>1</td>\n",
       "      <td>2024-09-05 10:50:02.189760</td>\n",
       "    </tr>\n",
       "    <tr>\n",
       "      <th>1</th>\n",
       "      <td>13</td>\n",
       "      <td>198</td>\n",
       "      <td>0</td>\n",
       "      <td>4</td>\n",
       "      <td>2024-05-30 10:50:02.189780</td>\n",
       "    </tr>\n",
       "    <tr>\n",
       "      <th>2</th>\n",
       "      <td>1</td>\n",
       "      <td>9</td>\n",
       "      <td>2</td>\n",
       "      <td>1</td>\n",
       "      <td>2024-11-15 10:50:02.189783</td>\n",
       "    </tr>\n",
       "    <tr>\n",
       "      <th>3</th>\n",
       "      <td>36</td>\n",
       "      <td>91</td>\n",
       "      <td>1</td>\n",
       "      <td>1</td>\n",
       "      <td>2024-08-15 10:50:02.189785</td>\n",
       "    </tr>\n",
       "    <tr>\n",
       "      <th>4</th>\n",
       "      <td>15</td>\n",
       "      <td>92</td>\n",
       "      <td>1</td>\n",
       "      <td>3</td>\n",
       "      <td>2024-02-08 10:50:02.189787</td>\n",
       "    </tr>\n",
       "  </tbody>\n",
       "</table>\n",
       "</div>"
      ],
      "text/plain": [
       "   user_id  song_id  interaction  listen_count                   timestamp\n",
       "0       34        8            1             1  2024-09-05 10:50:02.189760\n",
       "1       13      198            0             4  2024-05-30 10:50:02.189780\n",
       "2        1        9            2             1  2024-11-15 10:50:02.189783\n",
       "3       36       91            1             1  2024-08-15 10:50:02.189785\n",
       "4       15       92            1             3  2024-02-08 10:50:02.189787"
      ]
     },
     "execution_count": 27,
     "metadata": {},
     "output_type": "execute_result"
    }
   ],
   "source": [
    "interaction = pd.read_csv(\"training_data/data.csv\")\n",
    "interaction.head()"
   ]
  },
  {
   "cell_type": "markdown",
   "id": "d0e389f3-e38f-4de7-8027-2b9f127e0c99",
   "metadata": {},
   "source": [
    "## Data Analysis and Preprocessing"
   ]
  },
  {
   "cell_type": "markdown",
   "id": "8880b9da-8e4c-4c6a-8591-e871dc2f44f4",
   "metadata": {},
   "source": [
    "### User Behaviour Analysis"
   ]
  },
  {
   "cell_type": "code",
   "execution_count": 231,
   "id": "f2fc91b9-06ae-490e-b0e5-bd857efc774e",
   "metadata": {},
   "outputs": [
    {
     "name": "stdout",
     "output_type": "stream",
     "text": [
      "Average number of listens per user: 19.2\n",
      "Most active users: [0, 1, 2, 3, 4, 5, 6, 7, 8, 9] and Most Inactive Users: [40, 41, 42, 43, 44, 45, 46, 47, 48, 49]\n"
     ]
    },
    {
     "data": {
      "image/png": "[encoded data removed]",
      "text/plain": [
       "<Figure size 640x480 with 1 Axes>"
      ]
     },
     "metadata": {},
     "output_type": "display_data"
    }
   ],
   "source": [
    "# users = Counter(sorted(interaction[\"user_id\"]))\n",
    "users = interaction[\"user_id\"].value_counts()\n",
    "\n",
    "# plot user interactions\n",
    "plt.title(\"Users and Interactions Mapped\")\n",
    "plt.bar(users.index,users.values)\n",
    "plt.xlabel(\"User ID\")\n",
    "plt.ylabel(\"# of Ratings\")\n",
    "\n",
    "# average listens per user\n",
    "average_ratings_per_user = users.mean()\n",
    "print(\"Average number of listens per user:\",average_ratings_per_user)\n",
    "\n",
    "# top 10 active/inactive users\n",
    "listencount_users = interaction.groupby(\"user_id\")[\"listen_count\"].sum()\n",
    "top_active_users = list(sorted_users.index[:10])\n",
    "top_inactive_users = list(sorted_users.index[-10:])\n",
    "print(f'Most active users: {top_active_users} and Most Inactive Users: {top_inactive_users}')\n"
   ]
  },
  {
   "cell_type": "markdown",
   "id": "b27845ee-ac1b-40c5-8b3b-dae88f76b27a",
   "metadata": {},
   "source": [
    "### Song Analysis"
   ]
  },
  {
   "cell_type": "code",
   "execution_count": 227,
   "id": "22fe54ba-8f29-4c81-be81-0602bc297f93",
   "metadata": {},
   "outputs": [
    {
     "name": "stdout",
     "output_type": "stream",
     "text": [
      "Number of unique songs: 198\n",
      "Number of unlistened songs: 0\n",
      "Most played songs: [40, 191, 183, 190, 45] and Least played songs: [4, 171, 43, 193, 114]\n"
     ]
    },
    {
     "data": {
      "text/plain": [
       "Text(0, 0.5, 'Number of Listens')"
      ]
     },
     "execution_count": 227,
     "metadata": {},
     "output_type": "execute_result"
    },
    {
     "data": {
      "image/png": "[encoded data removed]",
      "text/plain": [
       "<Figure size 640x480 with 1 Axes>"
      ]
     },
     "metadata": {},
     "output_type": "display_data"
    }
   ],
   "source": [
    "songs = interaction[\"song_id\"]\n",
    "\n",
    "# number of songs\n",
    "unique_songs = songs.nunique()\n",
    "print(f'Number of unique songs: {unique_songs}')\n",
    "\n",
    "# check for unrated songs\n",
    "listen_count = (interaction.groupby([\"song_id\"])[\"listen_count\"].sum())\n",
    "unplayed = (listen_count ==0).sum()\n",
    "print(f'Number of unlistened songs: {unplayed}')\n",
    "\n",
    "#top 5 most/least played songs\n",
    "sorted_listen_count = listen_count.sort_values(ascending=True)\n",
    "top_played_songs = list(sorted_listen_count.index[:5])\n",
    "least_played_songs = list(sorted_listen_count.index[-5:])\n",
    "print(f'Most played songs: {top_played_songs} and Least played songs: {least_played_songs}')\n",
    "\n",
    "\n",
    "# plot listen counts\n",
    "plt.title(\"Songs and Listen Count Mapped\")\n",
    "plt.bar(listen_count.index, listen_count.values)\n",
    "plt.xlabel(\"Song ID\")\n",
    "plt.ylabel(\"Number of Listens\")\n"
   ]
  },
  {
   "cell_type": "markdown",
   "id": "9871ccd4-9ac3-4217-9191-9d9496086595",
   "metadata": {},
   "source": [
    "### Rating Patterns"
   ]
  },
  {
   "cell_type": "markdown",
   "id": "9bc919df-f41d-40ff-a918-6f375d833b82",
   "metadata": {},
   "source": [
    "### Matrix Sparsity"
   ]
  },
  {
   "cell_type": "code",
   "execution_count": null,
   "id": "764ba752-d5be-4b3e-b4c0-aa9e3b15013a",
   "metadata": {},
   "outputs": [],
   "source": []
  }
 ],
 "metadata": {
  "kernelspec": {
   "display_name": "Python [conda env:base] *",
   "language": "python",
   "name": "conda-base-py"
  },
  "language_info": {
   "codemirror_mode": {
    "name": "ipython",
    "version": 3
   },
   "file_extension": ".py",
   "mimetype": "text/x-python",
   "name": "python",
   "nbconvert_exporter": "python",
   "pygments_lexer": "ipython3",
   "version": "3.12.4"
  }
 },
 "nbformat": 4,
 "nbformat_minor": 5
}
